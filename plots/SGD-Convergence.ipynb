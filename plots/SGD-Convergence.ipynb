{
  "nbformat": 4,
  "nbformat_minor": 0,
  "metadata": {
    "kernelspec": {
      "display_name": "Python 3",
      "language": "python",
      "name": "python3"
    },
    "language_info": {
      "codemirror_mode": {
        "name": "ipython",
        "version": 3
      },
      "file_extension": ".py",
      "mimetype": "text/x-python",
      "name": "python",
      "nbconvert_exporter": "python",
      "pygments_lexer": "ipython3",
      "version": "3.9.1"
    },
    "colab": {
      "name": "SGD-Convergence.ipynb",
      "provenance": [],
      "include_colab_link": true
    }
  },
  "cells": [
    {
      "cell_type": "markdown",
      "metadata": {
        "id": "view-in-github",
        "colab_type": "text"
      },
      "source": [
        "<a href=\"https://colab.research.google.com/github/liammadden/sgd/blob/main/plots/SGD-Convergence.ipynb\" target=\"_parent\"><img src=\"https://colab.research.google.com/assets/colab-badge.svg\" alt=\"Open In Colab\"/></a>"
      ]
    },
    {
      "cell_type": "code",
      "metadata": {
        "id": "VOQZwHJ7EyIS",
        "outputId": "54f1c6b4-91fa-4c01-bcbb-b9daae556073",
        "colab": {
          "base_uri": "https://localhost:8080/"
        }
      },
      "source": [
        "import numpy as np\n",
        "import numpy.linalg as la\n",
        "import matplotlib.pyplot as plt\n",
        "\n",
        "import matplotlib as mpl\n",
        "#mpl.rcParams[\"figure.figsize\"] = [8,6] # or 7, 4 or 10,8\n",
        "mpl.rcParams[\"lines.linewidth\"] = 2\n",
        "mpl.rcParams[\"lines.markersize\"] = 4\n",
        "mpl.rcParams.update({'figure.autolayout': True})\n",
        "mpl.rcParams.update({'font.size': 16})\n",
        "mpl.rcParams['lines.markersize'] = 7\n",
        "\n",
        "# Download latin modern fonts\n",
        "# !wget -q http://www.gust.org.pl/projects/e-foundry/latin-modern/download/lm2.004otf.zip\n",
        "# !unzip -q lm2.004otf.zip\n",
        "# from matplotlib import font_manager as fm\n",
        "# font_files = fm.findSystemFonts('.')# Pick up any fonts in the current directory.\n",
        "# for font_file in font_files:\n",
        "#     fm.fontManager.addfont(font_file)\n",
        "\n",
        "\n",
        "# mpl.rcParams['mathtext.fontset'] = 'cm'\n",
        "# mpl.rcParams['mathtext.fontset'] = 'Latin Modern Roman'\n",
        "# mpl.rcParams['font.family'] = 'STIXGeneral'\n",
        "mpl.rcParams['font.family'] = 'serif'\n",
        "mpl.rcParams['font.serif'] = ['Latin Modern Roman']\n",
        "\n",
        "#mpl.rc('font', family='Latin Modern') # doesn't work\n",
        "\n",
        "# https://stackoverflow.com/a/17967324\n",
        "# from matplotlib import rc\n",
        "# rc('text', usetex=True)\n",
        "# rc('font', **{'family': 'serif', 'serif': ['Computer Modern']})"
      ],
      "execution_count": 11,
      "outputs": [
        {
          "output_type": "stream",
          "name": "stdout",
          "text": [
            "replace lmmono10-italic.otf? [y]es, [n]o, [A]ll, [N]one, [r]ename: "
          ]
        }
      ]
    },
    {
      "cell_type": "code",
      "metadata": {
        "id": "zJBzq6v1EyIW"
      },
      "source": [
        "# True weights and starting weights\n",
        "\n",
        "np.random.seed(17)\n",
        "\n",
        "d1 = 10\n",
        "d2 = 1\n",
        "\n",
        "m_true = 50\n",
        "A_true = np.random.randn(m_true,d1)*np.sqrt(2/m_true)\n",
        "B_true = np.random.randn(m_true,m_true)*np.sqrt(2/m_true)\n",
        "C_true = np.random.randn(d2,m_true)*np.sqrt(1/d2)\n",
        "\n",
        "m = 50\n",
        "A0 = np.random.randn(m,d1)*np.sqrt(2/m)\n",
        "B0 = np.random.randn(m,m)*np.sqrt(2/m)\n",
        "C0 = np.random.randn(d2,m)*np.sqrt(1/d2)"
      ],
      "execution_count": 2,
      "outputs": []
    },
    {
      "cell_type": "code",
      "metadata": {
        "id": "yojrUHgJEyIX"
      },
      "source": [
        "def relu(x):\n",
        "    y = np.maximum(0,x)\n",
        "    return y\n",
        "\n",
        "def grad(A,B,C,x,y):\n",
        "    m = np.shape(B)[0]\n",
        "    D1 = np.zeros(m)\n",
        "    D2 = np.zeros(m)\n",
        "    z = A@x\n",
        "    D1[z >= 0] = 1\n",
        "    D1 = np.diag(D1)\n",
        "    D1Ax = D1@z\n",
        "    z = B@D1Ax\n",
        "    D2[z >= 0] = 1\n",
        "    D2 = np.diag(D2)\n",
        "    D2BD1Ax = D2@z\n",
        "    z = C@D2BD1Ax-y\n",
        "    obj = .5*la.norm(z)**2\n",
        "    CD2 = C@D2\n",
        "    CD2BD1 = CD2@B@D1\n",
        "    der_A = np.outer(CD2BD1.T@z,x)\n",
        "    der_B = np.outer(CD2.T@z,D1Ax)\n",
        "    der_C = np.outer(z,D2BD1Ax)\n",
        "    return [obj,der_A,der_B,der_C]\n",
        "\n",
        "def gradset(A,B,C,X,Y):\n",
        "    # TODO: can we vectorize this??\n",
        "    \n",
        "    n = np.shape(X)[0]\n",
        "    objset = 0\n",
        "    derset_A = np.zeros(np.shape(A))\n",
        "    derset_B = np.zeros(np.shape(B))\n",
        "    derset_C = np.zeros(np.shape(C))\n",
        "    for i in range(n):\n",
        "        x = X[i,:]\n",
        "        y = Y[i,:]\n",
        "        [obj,der_A,der_B,der_C] = grad(A,B,C,x,y)\n",
        "        objset += obj\n",
        "        derset_A += der_A\n",
        "        derset_B += der_B\n",
        "        derset_C += der_C\n",
        "    objset /= n\n",
        "    derset_A /= n\n",
        "    derset_B /= n\n",
        "    derset_C /= n\n",
        "    return [objset,derset_A,derset_B,derset_C]"
      ],
      "execution_count": 3,
      "outputs": []
    },
    {
      "cell_type": "code",
      "metadata": {
        "id": "jQP6npKREyIY"
      },
      "source": [
        "def sgd(A, B, C, A_true, B_true, C_true, step_size, niter, batch_size, n_test, niter_test, n_validation):\n",
        "    \n",
        "    \n",
        "    # draw niter_test iterates\n",
        "    p = np.arange(niter)\n",
        "    p = 1/np.sqrt(p+1)\n",
        "    p = p/np.sum(p)\n",
        "    sampled_iterates = np.random.choice(niter,size=niter_test,replace=True,p=p)\n",
        "    sampled_iterates = np.unique(sampled_iterates)\n",
        "    sampled_iterate_index = 0\n",
        "    sampled_iterate = sampled_iterates[sampled_iterate_index]\n",
        "    sampled_iterate_final = sampled_iterates[len(sampled_iterates)-1]\n",
        "    \n",
        "    \n",
        "    # draw test and validation sets\n",
        "    d1 = np.shape(A)[1]\n",
        "    \n",
        "    X_test = np.random.randn(n_test,d1)\n",
        "    X_test /= la.norm(X_test,axis=1).reshape(n_test,1)\n",
        "    Y_test = np.transpose(C_true@relu(B_true@relu(A_true@X_test.T)))\n",
        "    \n",
        "    X_validation = np.random.randn(n_validation,d1)\n",
        "    X_validation /= la.norm(X_validation,axis=1).reshape(n_validation,1)\n",
        "    Y_validation = np.transpose(C_true@relu(B_true@relu(A_true@X_validation.T)))\n",
        "    \n",
        "\n",
        "    # apply sgd\n",
        "    i = 0\n",
        "    error = np.inf\n",
        "    while i <= sampled_iterate_final:\n",
        "        \n",
        "        # draw stochastic gradient\n",
        "        if batch_size == 1:\n",
        "            x = np.random.randn(d1)\n",
        "            x /= la.norm(x)\n",
        "            y = C_true@relu(B_true@relu(A_true@x))\n",
        "            [obj,der_A,der_B,der_C] = grad(A,B,C,x,y)\n",
        "        else:\n",
        "            X = np.random.randn(batch_size,d1)\n",
        "            X /= la.norm(X,axis=1).reshape(batch_size,1)\n",
        "            Y = np.transpose(C_true@relu(B_true@relu(A_true@X.T)))\n",
        "            [obj,der_A,der_B,der_C] = gradset(A,B,C,X,Y)\n",
        "        \n",
        "        # take gradient step\n",
        "        eta = step_size/np.sqrt(i+1)\n",
        "        A = A-eta*der_A\n",
        "        B = B-eta*der_B\n",
        "        C = C-eta*der_C\n",
        "        \n",
        "        # compute test error for sampled iterates\n",
        "        if i == sampled_iterate:\n",
        "            [obj,der_A,der_B,der_C] = gradset(A,B,C,X_test,Y_test)\n",
        "            new_error = la.norm(der_A)**2+la.norm(der_B)**2+la.norm(der_C)**2\n",
        "            if new_error < error:\n",
        "                error = new_error\n",
        "                A_best = A\n",
        "                B_best = B\n",
        "                C_best = C\n",
        "            if sampled_iterate != sampled_iterate_final:\n",
        "                sampled_iterate_index += 1\n",
        "                sampled_iterate = sampled_iterates[sampled_iterate_index]\n",
        "        i += 1\n",
        "        \n",
        "        \n",
        "    # compute validation error for best iterate\n",
        "    A = A_best\n",
        "    B = B_best\n",
        "    C = C_best\n",
        "    [obj,der_A,der_B,der_C] = gradset(A,B,C,X_validation,Y_validation)\n",
        "    error = la.norm(der_A)**2+la.norm(der_B)**2+la.norm(der_C)**2\n",
        "    \n",
        "    return error"
      ],
      "execution_count": 4,
      "outputs": []
    },
    {
      "cell_type": "markdown",
      "metadata": {
        "id": "GWcP6ZSDE_We"
      },
      "source": [
        "#### If you want to use already saved data, upload it to colab\n",
        "Click the File icon to the left, then the Upload icon"
      ]
    },
    {
      "cell_type": "code",
      "metadata": {
        "id": "dYqMbKDzE6Zy"
      },
      "source": [
        "errors = np.load('SGD-Convergence_Data_11-03-2021.npz')['errors']"
      ],
      "execution_count": 7,
      "outputs": []
    },
    {
      "cell_type": "markdown",
      "metadata": {
        "id": "nr316_z4FCpv"
      },
      "source": [
        "#### Or re-run SGD (might take a while, like 30 min)"
      ]
    },
    {
      "cell_type": "code",
      "metadata": {
        "id": "sEZ3s0IKEyIZ",
        "outputId": "43c4bd5f-94bc-47b8-9717-79f74d7b0cd4"
      },
      "source": [
        "step_size = .1\n",
        "niter = 1000\n",
        "batch_size = 10\n",
        "n_test = 1000\n",
        "niter_test = 200\n",
        "n_validation = 5000\n",
        "\n",
        "num_trials = 100\n",
        "errors = np.zeros(num_trials)\n",
        "for i in range(num_trials):\n",
        "    A = A0\n",
        "    B = B0\n",
        "    C = C0\n",
        "    error = sgd(A, B, C, A_true, B_true, C_true, step_size, niter, batch_size, n_test, niter_test, n_validation)\n",
        "    errors[i] = error\n",
        "    print([i,error])\n",
        "print('Done!')\n",
        "np.savez('SGD-Convergence_Data_11-03-2021', errors=errors)"
      ],
      "execution_count": null,
      "outputs": [
        {
          "name": "stdout",
          "output_type": "stream",
          "text": [
            "[0, 0.01228000477932662]\n",
            "[1, 0.013267098591001556]\n",
            "[2, 0.009753908257628266]\n",
            "[3, 0.014974299567325336]\n",
            "[4, 0.010147883026086631]\n",
            "[5, 0.01228958369006012]\n",
            "[6, 0.01180718467710671]\n",
            "[7, 0.010126164846004818]\n",
            "[8, 0.01225894717790794]\n",
            "[9, 0.011524952858891718]\n",
            "[10, 0.00952150998126917]\n",
            "[11, 0.010934083386815542]\n",
            "[12, 0.010793842487161923]\n",
            "[13, 0.01285231803054335]\n",
            "[14, 0.011170950966315481]\n",
            "[15, 0.01314151024874825]\n",
            "[16, 0.016102430775845743]\n",
            "[17, 0.015154127431636143]\n",
            "[18, 0.010989435204925025]\n",
            "[19, 0.010141433852975655]\n",
            "[20, 0.009000656294106783]\n",
            "[21, 0.010730470025040368]\n",
            "[22, 0.01137875386354342]\n",
            "[23, 0.01644083315009155]\n",
            "[24, 0.010826366688699867]\n",
            "[25, 0.01829595660670093]\n",
            "[26, 0.010334234491685166]\n",
            "[27, 0.013015769431990086]\n",
            "[28, 0.011899883022066904]\n",
            "[29, 0.012636159694634521]\n",
            "[30, 0.010688408528517023]\n",
            "[31, 0.009535036743908808]\n",
            "[32, 0.01401622029152076]\n",
            "[33, 0.009956518858727436]\n",
            "[34, 0.009189454968290267]\n",
            "[35, 0.011283275751219107]\n",
            "[36, 0.009442283162369511]\n",
            "[37, 0.013957574932293262]\n",
            "[38, 0.012185828105558323]\n",
            "[39, 0.010256592373511184]\n",
            "[40, 0.01132114744823948]\n",
            "[41, 0.00993223681166701]\n",
            "[42, 0.009422304896786991]\n",
            "[43, 0.012603305117788906]\n",
            "[44, 0.009416587507391282]\n",
            "[45, 0.010780874722707823]\n",
            "[46, 0.01168568104623453]\n",
            "[47, 0.009965496921968112]\n",
            "[48, 0.011623066938703297]\n",
            "[49, 0.00885345740954698]\n",
            "[50, 0.013809414031843673]\n",
            "[51, 0.010438701430572201]\n",
            "[52, 0.012657250044369026]\n",
            "[53, 0.011954480763920248]\n",
            "[54, 0.011443011054431294]\n",
            "[55, 0.012184670338247277]\n",
            "[56, 0.012241867004426598]\n",
            "[57, 0.01183505357880581]\n",
            "[58, 0.009421970979812455]\n",
            "[59, 0.011968987131681963]\n",
            "[60, 0.010721568267413946]\n",
            "[61, 0.01427908242017814]\n",
            "[62, 0.010807154507529778]\n",
            "[63, 0.011189839092967125]\n",
            "[64, 0.012345635620364094]\n",
            "[65, 0.011591403392130365]\n",
            "[66, 0.011764946944910775]\n",
            "[67, 0.01358863753471792]\n",
            "[68, 0.010678857432514616]\n",
            "[69, 0.013311898056876503]\n",
            "[70, 0.011065107094458158]\n",
            "[71, 0.012864212375493145]\n",
            "[72, 0.01161858714584503]\n",
            "[73, 0.012387597221939025]\n",
            "[74, 0.010924192191727551]\n",
            "[75, 0.009859320208801595]\n",
            "[76, 0.01057436452273801]\n",
            "[77, 0.010257846641366518]\n",
            "[78, 0.012770251193814891]\n",
            "[79, 0.014909469906753616]\n",
            "[80, 0.012154277678271359]\n",
            "[81, 0.009460964292496394]\n",
            "[82, 0.01158013099996466]\n",
            "[83, 0.011146472585765637]\n",
            "[84, 0.009430893455687667]\n",
            "[85, 0.00964469503146073]\n",
            "[86, 0.010287632849133957]\n",
            "[87, 0.012743515232198637]\n",
            "[88, 0.023880027098383855]\n",
            "[89, 0.011783507216093378]\n",
            "[90, 0.01160882602322377]\n",
            "[91, 0.008841120530138238]\n",
            "[92, 0.010979020299453211]\n",
            "[93, 0.010361463922199624]\n",
            "[94, 0.0106427750640764]\n",
            "[95, 0.013504210534005199]\n",
            "[96, 0.013588609718701482]\n",
            "[97, 0.012040302519334087]\n",
            "[98, 0.011111051282848903]\n",
            "[99, 0.01721510094872766]\n"
          ]
        }
      ]
    },
    {
      "cell_type": "code",
      "metadata": {
        "id": "baKZVwBAEyIb",
        "outputId": "05f7e6a9-d6f3-4d71-9808-9e562ca52a00",
        "colab": {
          "base_uri": "https://localhost:8080/",
          "height": 284
        }
      },
      "source": [
        "errors = np.sort(errors)\n",
        "cdf = np.arange(len(errors))/float(len(errors))\n",
        "idx1 = int(len(errors)-np.floor(len(errors)/np.e))\n",
        "idx2 = len(errors)-1\n",
        "\n",
        "\n",
        "fig, ax = plt.subplots()\n",
        "# ax.plot(np.log(1/(1-cdf[idx1:idx2])),errors[idx1:idx2],'-')\n",
        "ax.semilogx((1-cdf[idx1:idx2]),errors[idx1:idx2],'-')\n",
        "# plt.xlabel('log(1/delta)')\n",
        "plt.xlabel('$\\delta$')\n",
        "plt.ylabel('(1-$\\delta$)-percentile error')\n",
        "plt.ylim(bottom=0)\n",
        "plt.xlim(left=.01,right=.5)\n",
        "# plt.savefig('convergence.pdf')\n",
        "plt.show()"
      ],
      "execution_count": 12,
      "outputs": [
        {
          "output_type": "display_data",
          "data": {
            "image/png": "[encoded data removed]",
            "text/plain": [
              "<Figure size 432x288 with 1 Axes>"
            ]
          },
          "metadata": {
            "needs_background": "light"
          }
        }
      ]
    },
    {
      "cell_type": "code",
      "metadata": {
        "id": "jy7FVNPOKKFr",
        "outputId": "4f0fc160-28bb-4c3b-e471-573317135b2f",
        "colab": {
          "base_uri": "https://localhost:8080/"
        }
      },
      "source": [
        "# Show fonts\n",
        "import matplotlib.font_manager\n",
        "fpaths = matplotlib.font_manager.findSystemFonts() # system fonts\n",
        "# fpaths = matplotlib.font_manager.findSystemFonts('.') # local fonts\n",
        "\n",
        "for i in fpaths:\n",
        "    f = matplotlib.font_manager.get_font(i)\n",
        "    print(f.family_name)"
      ],
      "execution_count": 5,
      "outputs": [
        {
          "output_type": "stream",
          "name": "stdout",
          "text": [
            "Liberation Mono\n",
            "Liberation Sans\n",
            "Liberation Sans Narrow\n",
            "Liberation Sans Narrow\n",
            "Liberation Sans\n",
            "Liberation Sans Narrow\n",
            "Liberation Serif\n",
            "Liberation Serif\n",
            "Humor Sans\n",
            "Liberation Sans\n",
            "Liberation Serif\n",
            "Liberation Serif\n",
            "Liberation Mono\n",
            "Liberation Mono\n",
            "Liberation Mono\n",
            "Liberation Sans\n",
            "Liberation Sans Narrow\n"
          ]
        }
      ]
    },
    {
      "cell_type": "code",
      "metadata": {
        "id": "TxJEQ8ZLX_oh"
      },
      "source": [
        ""
      ],
      "execution_count": null,
      "outputs": []
    }
  ]
}
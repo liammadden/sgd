{
 "cells": [
  {
   "cell_type": "code",
   "execution_count": 1,
   "metadata": {},
   "outputs": [],
   "source": [
    "import numpy as np\n",
    "import numpy.linalg as la\n",
    "import matplotlib.pyplot as plt\n",
    "\n",
    "import matplotlib as mpl\n",
    "mpl.rcParams[\"lines.linewidth\"] = 2\n",
    "mpl.rcParams[\"lines.markersize\"] = 4\n",
    "mpl.rcParams.update({'font.size': 16})\n",
    "mpl.rcParams.update({'figure.autolayout': True})\n",
    "mpl.rcParams['lines.markersize'] = 7"
   ]
  },
  {
   "cell_type": "code",
   "execution_count": 2,
   "metadata": {},
   "outputs": [],
   "source": [
    "# This works on Stephen's computer but not elsewhere\n",
    "# so if it gives you an error, just don't worry about it\n",
    "# and don't evaluate this cell\n",
    "mpl.rcParams['font.serif'] = ['Computer Modern']\n",
    "from matplotlib import rc\n",
    "rc('text', usetex=True) "
   ]
  },
  {
   "cell_type": "code",
   "execution_count": 12,
   "metadata": {},
   "outputs": [],
   "source": [
    "# True weights and starting weights\n",
    "\n",
    "np.random.seed(17)\n",
    "\n",
    "d1 = 10\n",
    "d2 = 1\n",
    "\n",
    "m_true = 20\n",
    "A_true = np.random.randn(m_true,d1)*np.sqrt(2/m_true)\n",
    "B_true = np.random.randn(m_true,m_true)*np.sqrt(2/m_true)\n",
    "C_true = np.random.randn(d2,m_true)*np.sqrt(1/d2)\n",
    "\n",
    "m = 10\n",
    "A0 = np.random.randn(m,d1)*np.sqrt(2/m)\n",
    "B0 = np.random.randn(m,m)*np.sqrt(2/m)\n",
    "C0 = np.random.randn(d2,m)*np.sqrt(1/d2)"
   ]
  },
  {
   "cell_type": "code",
   "execution_count": 13,
   "metadata": {},
   "outputs": [],
   "source": [
    "def relu(x):\n",
    "    y = np.maximum(0,x)\n",
    "    return y\n",
    "\n",
    "def grad(A,B,C,x,y):\n",
    "    m = np.shape(B)[0]\n",
    "    D1 = np.zeros(m)\n",
    "    D2 = np.zeros(m)\n",
    "    z = A@x\n",
    "    D1[z >= 0] = 1\n",
    "    D1 = np.diag(D1)\n",
    "    D1Ax = D1@z\n",
    "    z = B@D1Ax\n",
    "    D2[z >= 0] = 1\n",
    "    D2 = np.diag(D2)\n",
    "    D2BD1Ax = D2@z\n",
    "    z = C@D2BD1Ax-y\n",
    "    obj = .5*la.norm(z)**2\n",
    "    CD2 = C@D2\n",
    "    CD2BD1 = CD2@B@D1\n",
    "    der_A = np.outer(CD2BD1.T@z,x)\n",
    "    der_B = np.outer(CD2.T@z,D1Ax)\n",
    "    der_C = np.outer(z,D2BD1Ax)\n",
    "    return [obj,der_A,der_B,der_C]\n",
    "\n",
    "def gradset(A,B,C,X,Y):\n",
    "    # TODO: can we vectorize this??\n",
    "    \n",
    "    n = np.shape(X)[0]\n",
    "    objset = 0\n",
    "    derset_A = np.zeros(np.shape(A))\n",
    "    derset_B = np.zeros(np.shape(B))\n",
    "    derset_C = np.zeros(np.shape(C))\n",
    "    for i in range(n):\n",
    "        x = X[i,:]\n",
    "        y = Y[i,:]\n",
    "        [obj,der_A,der_B,der_C] = grad(A,B,C,x,y)\n",
    "        objset += obj\n",
    "        derset_A += der_A\n",
    "        derset_B += der_B\n",
    "        derset_C += der_C\n",
    "    objset /= n\n",
    "    derset_A /= n\n",
    "    derset_B /= n\n",
    "    derset_C /= n\n",
    "    return [objset,derset_A,derset_B,derset_C]"
   ]
  },
  {
   "cell_type": "code",
   "execution_count": 15,
   "metadata": {},
   "outputs": [],
   "source": [
    "def sgd(A, B, C, A_true, B_true, C_true, step_size, niter, batch_size, n_test, niter_test, n_validation):\n",
    "    \n",
    "    \n",
    "    # draw niter_test iterates\n",
    "    p = np.arange(niter)\n",
    "    p = 1/np.sqrt(p+1)\n",
    "    p = p/np.sum(p)\n",
    "    sampled_iterates = np.random.choice(niter,size=niter_test,replace=True,p=p)\n",
    "    sampled_iterates = np.unique(sampled_iterates)\n",
    "    sampled_iterate_index = 0\n",
    "    sampled_iterate = sampled_iterates[sampled_iterate_index]\n",
    "    sampled_iterate_final = sampled_iterates[len(sampled_iterates)-1]\n",
    "    \n",
    "    \n",
    "    # draw test and validation sets\n",
    "    d1 = np.shape(A)[1]\n",
    "    \n",
    "    X_test = np.random.randn(n_test,d1)\n",
    "    X_test /= la.norm(X_test,axis=1).reshape(n_test,1)\n",
    "    Y_test = np.transpose(C_true@relu(B_true@relu(A_true@X_test.T)))\n",
    "    \n",
    "    X_validation = np.random.randn(n_validation,d1)\n",
    "    X_validation /= la.norm(X_validation,axis=1).reshape(n_validation,1)\n",
    "    Y_validation = np.transpose(C_true@relu(B_true@relu(A_true@X_validation.T)))\n",
    "    \n",
    "\n",
    "    # apply sgd\n",
    "    error = np.inf\n",
    "    for i in range(niter):\n",
    "        \n",
    "        # draw stochastic gradient\n",
    "        if batch_size == 1:\n",
    "            x = np.random.randn(d1)\n",
    "            x /= la.norm(x)\n",
    "            y = C_true@relu(B_true@relu(A_true@x))\n",
    "            [obj,der_A,der_B,der_C] = grad(A,B,C,x,y)\n",
    "        else:\n",
    "            X = np.random.randn(batch_size,d1)\n",
    "            X /= la.norm(X,axis=1).reshape(batch_size,1)\n",
    "            Y = np.transpose(C_true@relu(B_true@relu(A_true@X.T)))\n",
    "            [obj,der_A,der_B,der_C] = gradset(A,B,C,X,Y)\n",
    "        \n",
    "        # take gradient step\n",
    "        eta = step_size/np.sqrt(i+1)\n",
    "        A = A-eta*der_A\n",
    "        B = B-eta*der_B\n",
    "        C = C-eta*der_C\n",
    "        \n",
    "        # compute test error for sampled iterates\n",
    "        if i == sampled_iterate:\n",
    "            [obj,der_A,der_B,der_C] = gradset(A,B,C,X_test,Y_test)\n",
    "            new_error = la.norm(der_A)**2+la.norm(der_B)**2+la.norm(der_C)**2\n",
    "            if new_error < error:\n",
    "                error = new_error\n",
    "                A_best = A\n",
    "                B_best = B\n",
    "                C_best = C\n",
    "            if sampled_iterate != sampled_iterate_final:\n",
    "                sampled_iterate_index += 1\n",
    "                sampled_iterate = sampled_iterates[sampled_iterate_index]\n",
    "        \n",
    "        \n",
    "    # compute validation error for best iterate and last iterate\n",
    "    [obj,der_A,der_B,der_C] = gradset(A_best,B_best,C_best,X_validation,Y_validation)\n",
    "    b_err = la.norm(der_A)**2+la.norm(der_B)**2+la.norm(der_C)**2\n",
    "    [obj,der_A,der_B,der_C] = gradset(A,B,C,X_validation,Y_validation)\n",
    "    l_err = la.norm(der_A)**2+la.norm(der_B)**2+la.norm(der_C)**2\n",
    "    \n",
    "    return [b_err,l_err]"
   ]
  },
  {
   "cell_type": "code",
   "execution_count": null,
   "metadata": {},
   "outputs": [],
   "source": [
    "step_size = .1\n",
    "niter = 1000\n",
    "batch_size = 10\n",
    "n_test = 1000\n",
    "niter_test = 200\n",
    "n_validation = 5000\n",
    "\n",
    "num_trials = 100\n",
    "b_errs = np.zeros(num_trials)\n",
    "l_errs = np.zeros(num_trials)\n",
    "for i in range(num_trials):\n",
    "    print(i)\n",
    "    A = A0\n",
    "    B = B0\n",
    "    C = C0\n",
    "    [b_err,l_err] = sgd(A, B, C, A_true, B_true, C_true, step_size, niter, batch_size, n_test, niter_test, n_validation)\n",
    "    b_errs[i] = b_err\n",
    "    l_errs[i] = l_err\n",
    "np.savetxt('sa_conv_b_errs.csv', b_errs, delimiter=',')\n",
    "np.savetxt('sa_conv_l_errs.csv', l_errs, delimiter=',')"
   ]
  },
  {
   "cell_type": "code",
   "execution_count": null,
   "metadata": {},
   "outputs": [],
   "source": [
    "# If needed, download data files\n",
    "!wget -q https://github.com/liammadden/sgd/raw/main/plots/data/sa_conv_b_errs.csv\n",
    "!wget -q https://github.com/liammadden/sgd/raw/main/plots/data/sa_conv_l_errs.csv"
   ]
  },
  {
   "cell_type": "code",
   "execution_count": 3,
   "metadata": {},
   "outputs": [],
   "source": [
    "b_errs = np.loadtxt('sa_conv_b_errs.csv',  delimiter=',')\n",
    "l_errs = np.loadtxt('sa_conv_l_errs.csv',  delimiter=',')\n",
    "# b_errs = np.loadtxt('data/sa_conv_b_errs.csv',  delimiter=',')\n",
    "# l_errs = np.loadtxt('data/sa_conv_l_errs.csv',  delimiter=',')\n",
    "cdf = np.arange(len(b_errs))/float(len(b_errs))\n",
    "b_errs = np.sort(b_errs)\n",
    "l_errs = np.sort(l_errs)"
   ]
  },
  {
   "cell_type": "code",
   "execution_count": 5,
   "metadata": {},
   "outputs": [],
   "source": [
    "# Find line of best-fit (possibly after doing a transformation)\n",
    "def bestFit( x, y):\n",
    "    \"\"\" returns slope,intercept for best fit of the data (x,y)\"\"\"\n",
    "    # Form Vandermonde matrix\n",
    "    n = len(x)\n",
    "    V = np.vstack( (x.ravel(), np.ones(n)) ).T \n",
    "    \n",
    "    beta = la.lstsq(V,y,rcond=None)[0]\n",
    "\n",
    "    slope = beta[0]\n",
    "    intercept = beta[1]\n",
    "\n",
    "    return slope,intercept"
   ]
  },
  {
   "cell_type": "code",
   "execution_count": 39,
   "metadata": {},
   "outputs": [
    {
     "data": {
      "image/png": "[encoded data removed]",
      "text/plain": [
       "<Figure size 432x288 with 1 Axes>"
      ]
     },
     "metadata": {
      "needs_background": "light"
     },
     "output_type": "display_data"
    }
   ],
   "source": [
    "# Figure\n",
    "\n",
    "deltas = 1-cdf[-30:]\n",
    "data_b = b_errs[-30:]\n",
    "data_l = l_errs[-30:]\n",
    "\n",
    "fig, ax = plt.subplots()\n",
    "h1=ax.semilogx(deltas,data_b,'o-',markersize=5,label='post-processing iterate')\n",
    "\n",
    "h2=ax.semilogx(deltas,data_l,'s-',markersize=5,label='last iterate')\n",
    "\n",
    "# Make a line of best fit, using function dependence f(delta)\n",
    "f = lambda delta : np.log(1/delta)\n",
    "\n",
    "\n",
    "clr1 = h1[0].get_color()\n",
    "clr2 = h2[0].get_color()\n",
    "slp,intrcpt = bestFit( f(deltas), data_b)\n",
    "ax.semilogx( deltas, slp*f(deltas) + intrcpt, '--', color=clr1,\\\n",
    "    markevery=.45,label=\"$\\log(\\delta^{-1})$ best fit, post-proc\")\n",
    "slp,intrcpt = bestFit( f(deltas), data_l)\n",
    "ax.semilogx( deltas, slp*f(deltas) + intrcpt, '-.', color=clr2,\\\n",
    "    markevery=.45,label=\"$\\log(\\delta^{-1})$ best fit, last iter\")\n",
    "\n",
    "\n",
    "plt.xlabel('Failure probability $\\delta$')\n",
    "plt.ylabel('(1-$\\delta$)-percentile error')\n",
    "# plt.ylim(bottom=0)\n",
    "legend = ax.legend(fontsize=14)#loc='lower right')\n",
    "# plt.xlim(right=.1) \n",
    "# plt.savefig('saconvergence_v2_zoomed.pdf')\n",
    "plt.show()"
   ]
  },
  {
   "cell_type": "markdown",
   "metadata": {},
   "source": [
    "Same plot, but zoom out a bit, and no reference line"
   ]
  },
  {
   "cell_type": "code",
   "execution_count": 38,
   "metadata": {},
   "outputs": [
    {
     "data": {
      "image/png": "[encoded data removed]",
      "text/plain": [
       "<Figure size 432x288 with 1 Axes>"
      ]
     },
     "metadata": {
      "needs_background": "light"
     },
     "output_type": "display_data"
    }
   ],
   "source": [
    "deltas = 1-cdf[-60:]\n",
    "data_b = b_errs[-60:]\n",
    "data_l = l_errs[-60:]\n",
    "\n",
    "fig, ax = plt.subplots()\n",
    "h1=ax.semilogx(deltas,data_b,'o-',markersize=5,label='post-processing iterate')\n",
    "\n",
    "h2=ax.semilogx(deltas,data_l,'s-',markersize=5,label='last iterate')\n",
    "\n",
    "plt.xlabel('Failure probability $\\delta$')\n",
    "plt.ylabel('(1-$\\delta$)-percentile error')\n",
    "plt.ylim(bottom=0)\n",
    "legend = ax.legend(fontsize=14)#loc='lower right')\n",
    "# plt.xlim(right=.1) \n",
    "# plt.savefig('saconvergence_v2.pdf')\n",
    "plt.show()"
   ]
  },
  {
   "cell_type": "markdown",
   "metadata": {},
   "source": []
  }
 ],
 "metadata": {
  "kernelspec": {
   "display_name": "Python 3",
   "language": "python",
   "name": "python3"
  },
  "language_info": {
   "codemirror_mode": {
    "name": "ipython",
    "version": 3
   },
   "file_extension": ".py",
   "mimetype": "text/x-python",
   "name": "python",
   "nbconvert_exporter": "python",
   "pygments_lexer": "ipython3",
   "version": "3.9.1"
  }
 },
 "nbformat": 4,
 "nbformat_minor": 2
}
